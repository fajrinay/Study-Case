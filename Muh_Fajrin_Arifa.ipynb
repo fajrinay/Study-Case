{
  "nbformat": 4,
  "nbformat_minor": 0,
  "metadata": {
    "colab": {
      "name": "Muh. Fajrin Arifa",
      "provenance": [],
      "collapsed_sections": [],
      "authorship_tag": "ABX9TyM1wNmp0vFs5PUHkBxYG8N/",
      "include_colab_link": true
    },
    "kernelspec": {
      "name": "python3",
      "display_name": "Python 3"
    },
    "language_info": {
      "name": "python"
    }
  },
  "cells": [
    {
      "cell_type": "markdown",
      "metadata": {
        "id": "view-in-github",
        "colab_type": "text"
      },
      "source": [
        "<a href=\"https://colab.research.google.com/github/fajrinay/Study-Case/blob/main/Muh_Fajrin_Arifa.ipynb\" target=\"_parent\"><img src=\"https://colab.research.google.com/assets/colab-badge.svg\" alt=\"Open In Colab\"/></a>"
      ]
    },
    {
      "cell_type": "markdown",
      "metadata": {
        "id": "YTMLgW65AWFW"
      },
      "source": [
        "According to the datasets that are present from sales report. There are 3 insight that i can show to you.\n",
        "1.   What is the most sold item?\n",
        "2.   where the most net sales came from?\n",
        "3.   Is there any relationship between 'Net Sales' dan 'Discounts'\n"
      ]
    },
    {
      "cell_type": "markdown",
      "metadata": {
        "id": "7Z2yCFtGBB4A"
      },
      "source": [
        "**Part one** Importing library and datasets"
      ]
    },
    {
      "cell_type": "code",
      "metadata": {
        "colab": {
          "base_uri": "https://localhost:8080/",
          "height": 424
        },
        "id": "hl2OnSKqALQS",
        "outputId": "1931b91f-13b8-4d10-b5f1-7dedc40ccf3d"
      },
      "source": [
        "import pandas as pd\n",
        "import numpy as np\n",
        "\n",
        "path_file = '/content/Case study A - online sales business - Data By Product.csv'\n",
        "df = pd.read_csv(path_file)\n",
        "df"
      ],
      "execution_count": null,
      "outputs": [
        {
          "output_type": "execute_result",
          "data": {
            "text/html": [
              "<div>\n",
              "<style scoped>\n",
              "    .dataframe tbody tr th:only-of-type {\n",
              "        vertical-align: middle;\n",
              "    }\n",
              "\n",
              "    .dataframe tbody tr th {\n",
              "        vertical-align: top;\n",
              "    }\n",
              "\n",
              "    .dataframe thead th {\n",
              "        text-align: right;\n",
              "    }\n",
              "</style>\n",
              "<table border=\"1\" class=\"dataframe\">\n",
              "  <thead>\n",
              "    <tr style=\"text-align: right;\">\n",
              "      <th></th>\n",
              "      <th>Product Type</th>\n",
              "      <th>Net Quantity</th>\n",
              "      <th>Gross Sales</th>\n",
              "      <th>Discounts</th>\n",
              "      <th>Returns</th>\n",
              "      <th>Total Net Sales</th>\n",
              "    </tr>\n",
              "  </thead>\n",
              "  <tbody>\n",
              "    <tr>\n",
              "      <th>0</th>\n",
              "      <td>Art &amp; Sculpture</td>\n",
              "      <td>34</td>\n",
              "      <td>14935.0</td>\n",
              "      <td>-$594.00</td>\n",
              "      <td>-1609.00</td>\n",
              "      <td>$12,732.00</td>\n",
              "    </tr>\n",
              "    <tr>\n",
              "      <th>1</th>\n",
              "      <td>Basket</td>\n",
              "      <td>13</td>\n",
              "      <td>3744.0</td>\n",
              "      <td>-$316.80</td>\n",
              "      <td>0.00</td>\n",
              "      <td>$3,427.20</td>\n",
              "    </tr>\n",
              "    <tr>\n",
              "      <th>2</th>\n",
              "      <td>Basket</td>\n",
              "      <td>12</td>\n",
              "      <td>3825.0</td>\n",
              "      <td>-$201.60</td>\n",
              "      <td>-288.00</td>\n",
              "      <td>$3,335.40</td>\n",
              "    </tr>\n",
              "    <tr>\n",
              "      <th>3</th>\n",
              "      <td>Basket</td>\n",
              "      <td>17</td>\n",
              "      <td>3035.0</td>\n",
              "      <td>-$63.25</td>\n",
              "      <td>0.00</td>\n",
              "      <td>$2,971.75</td>\n",
              "    </tr>\n",
              "    <tr>\n",
              "      <th>4</th>\n",
              "      <td>Art &amp; Sculpture</td>\n",
              "      <td>47</td>\n",
              "      <td>2696.8</td>\n",
              "      <td>-$44.16</td>\n",
              "      <td>0.00</td>\n",
              "      <td>$2,652.64</td>\n",
              "    </tr>\n",
              "    <tr>\n",
              "      <th>...</th>\n",
              "      <td>...</td>\n",
              "      <td>...</td>\n",
              "      <td>...</td>\n",
              "      <td>...</td>\n",
              "      <td>...</td>\n",
              "      <td>...</td>\n",
              "    </tr>\n",
              "    <tr>\n",
              "      <th>1770</th>\n",
              "      <td>Kitchen</td>\n",
              "      <td>0</td>\n",
              "      <td>28.0</td>\n",
              "      <td>-$2.81</td>\n",
              "      <td>-25.19</td>\n",
              "      <td>$0.00</td>\n",
              "    </tr>\n",
              "    <tr>\n",
              "      <th>1771</th>\n",
              "      <td>Jewelry</td>\n",
              "      <td>0</td>\n",
              "      <td>28.0</td>\n",
              "      <td>$0.00</td>\n",
              "      <td>-28.00</td>\n",
              "      <td>$0.00</td>\n",
              "    </tr>\n",
              "    <tr>\n",
              "      <th>1772</th>\n",
              "      <td>Basket</td>\n",
              "      <td>0</td>\n",
              "      <td>116.0</td>\n",
              "      <td>-$23.20</td>\n",
              "      <td>-92.80</td>\n",
              "      <td>$0.00</td>\n",
              "    </tr>\n",
              "    <tr>\n",
              "      <th>1773</th>\n",
              "      <td>Kitchen</td>\n",
              "      <td>0</td>\n",
              "      <td>16.5</td>\n",
              "      <td>$0.00</td>\n",
              "      <td>-16.50</td>\n",
              "      <td>$0.00</td>\n",
              "    </tr>\n",
              "    <tr>\n",
              "      <th>1774</th>\n",
              "      <td>Kitchen</td>\n",
              "      <td>-1</td>\n",
              "      <td>0.0</td>\n",
              "      <td>$0.00</td>\n",
              "      <td>-106.25</td>\n",
              "      <td>-$106.25</td>\n",
              "    </tr>\n",
              "  </tbody>\n",
              "</table>\n",
              "<p>1775 rows × 6 columns</p>\n",
              "</div>"
            ],
            "text/plain": [
              "         Product Type  Net Quantity  ...  Returns Total Net Sales\n",
              "0     Art & Sculpture            34  ... -1609.00      $12,732.00\n",
              "1              Basket            13  ...     0.00       $3,427.20\n",
              "2              Basket            12  ...  -288.00       $3,335.40\n",
              "3              Basket            17  ...     0.00       $2,971.75\n",
              "4     Art & Sculpture            47  ...     0.00       $2,652.64\n",
              "...               ...           ...  ...      ...             ...\n",
              "1770          Kitchen             0  ...   -25.19           $0.00\n",
              "1771          Jewelry             0  ...   -28.00           $0.00\n",
              "1772           Basket             0  ...   -92.80           $0.00\n",
              "1773          Kitchen             0  ...   -16.50           $0.00\n",
              "1774          Kitchen            -1  ...  -106.25        -$106.25\n",
              "\n",
              "[1775 rows x 6 columns]"
            ]
          },
          "metadata": {},
          "execution_count": 135
        }
      ]
    },
    {
      "cell_type": "markdown",
      "metadata": {
        "id": "1jBlvDCQBWHH"
      },
      "source": [
        ""
      ]
    },
    {
      "cell_type": "markdown",
      "metadata": {
        "id": "ycFolZ2uBWO9"
      },
      "source": [
        "**Part two** Cleaning data"
      ]
    },
    {
      "cell_type": "code",
      "metadata": {
        "colab": {
          "base_uri": "https://localhost:8080/"
        },
        "id": "C3PJgSkDBij_",
        "outputId": "d4330a0e-305d-4c23-87fb-341ebcb9f8f7"
      },
      "source": [
        "# Change 'null' or 'nan' data in ['Product type'] to 'X Item'\n",
        "df['Product Type'] = np.where(df['Product Type'].isnull(),'X Item',df['Product Type'])\n",
        "df.isnull().sum()"
      ],
      "execution_count": null,
      "outputs": [
        {
          "output_type": "execute_result",
          "data": {
            "text/plain": [
              "Product Type       0\n",
              "Net Quantity       0\n",
              "Gross Sales        0\n",
              "Discounts          0\n",
              "Returns            0\n",
              "Total Net Sales    0\n",
              "dtype: int64"
            ]
          },
          "metadata": {},
          "execution_count": 136
        }
      ]
    },
    {
      "cell_type": "code",
      "metadata": {
        "colab": {
          "base_uri": "https://localhost:8080/"
        },
        "id": "wLqxhE_sDWKd",
        "outputId": "1ea3266e-29d7-49c1-ba16-e0376b9bf204"
      },
      "source": [
        "# Change data in ['Total Net Sales'] and ['Discount'] from object to float data type\n",
        "\n",
        "df['Total Net Sales'] = df['Total Net Sales'].str.replace('$','')\n",
        "df[\"Total Net Sales\"] = [float(str(i).replace(\",\", \"\")) for i in df[\"Total Net Sales\"]]\n",
        "\n",
        "df[\"Discounts\"] = df['Discounts'].str.replace('-','')\n",
        "df[\"Discounts\"] = [float(str(i).replace(\"$\", \"\")) for i in df[\"Discounts\"]]\n",
        "\n",
        "df.info()"
      ],
      "execution_count": null,
      "outputs": [
        {
          "output_type": "stream",
          "name": "stdout",
          "text": [
            "<class 'pandas.core.frame.DataFrame'>\n",
            "RangeIndex: 1775 entries, 0 to 1774\n",
            "Data columns (total 6 columns):\n",
            " #   Column           Non-Null Count  Dtype  \n",
            "---  ------           --------------  -----  \n",
            " 0   Product Type     1775 non-null   object \n",
            " 1   Net Quantity     1775 non-null   int64  \n",
            " 2   Gross Sales      1775 non-null   float64\n",
            " 3   Discounts        1775 non-null   float64\n",
            " 4   Returns          1775 non-null   float64\n",
            " 5   Total Net Sales  1775 non-null   float64\n",
            "dtypes: float64(4), int64(1), object(1)\n",
            "memory usage: 83.3+ KB\n"
          ]
        }
      ]
    },
    {
      "cell_type": "markdown",
      "metadata": {
        "id": "GYPv2aIPEP4a"
      },
      "source": [
        "**Part three** Analyze data in ['Net Quantty'] to answer first and second question"
      ]
    },
    {
      "cell_type": "code",
      "metadata": {
        "colab": {
          "base_uri": "https://localhost:8080/",
          "height": 731
        },
        "id": "mxQ8LHKoEeMx",
        "outputId": "b6e166c0-3892-4c92-e73e-32a362b1d567"
      },
      "source": [
        "# Using grupby function\n",
        "new_df.x = df.groupby('Product Type').agg({'Net Quantity':'sum'})\n",
        "new_df.x"
      ],
      "execution_count": null,
      "outputs": [
        {
          "output_type": "stream",
          "name": "stderr",
          "text": [
            "/usr/local/lib/python3.7/dist-packages/ipykernel_launcher.py:2: UserWarning: Pandas doesn't allow columns to be created via a new attribute name - see https://pandas.pydata.org/pandas-docs/stable/indexing.html#attribute-access\n",
            "  \n"
          ]
        },
        {
          "output_type": "execute_result",
          "data": {
            "text/html": [
              "<div>\n",
              "<style scoped>\n",
              "    .dataframe tbody tr th:only-of-type {\n",
              "        vertical-align: middle;\n",
              "    }\n",
              "\n",
              "    .dataframe tbody tr th {\n",
              "        vertical-align: top;\n",
              "    }\n",
              "\n",
              "    .dataframe thead th {\n",
              "        text-align: right;\n",
              "    }\n",
              "</style>\n",
              "<table border=\"1\" class=\"dataframe\">\n",
              "  <thead>\n",
              "    <tr style=\"text-align: right;\">\n",
              "      <th></th>\n",
              "      <th>Net Quantity</th>\n",
              "    </tr>\n",
              "    <tr>\n",
              "      <th>Product Type</th>\n",
              "      <th></th>\n",
              "    </tr>\n",
              "  </thead>\n",
              "  <tbody>\n",
              "    <tr>\n",
              "      <th>Accessories</th>\n",
              "      <td>84</td>\n",
              "    </tr>\n",
              "    <tr>\n",
              "      <th>Art &amp; Sculpture</th>\n",
              "      <td>1427</td>\n",
              "    </tr>\n",
              "    <tr>\n",
              "      <th>Basket</th>\n",
              "      <td>1461</td>\n",
              "    </tr>\n",
              "    <tr>\n",
              "      <th>Christmas</th>\n",
              "      <td>575</td>\n",
              "    </tr>\n",
              "    <tr>\n",
              "      <th>Easter</th>\n",
              "      <td>1</td>\n",
              "    </tr>\n",
              "    <tr>\n",
              "      <th>Fair Trade Gifts</th>\n",
              "      <td>110</td>\n",
              "    </tr>\n",
              "    <tr>\n",
              "      <th>Furniture</th>\n",
              "      <td>27</td>\n",
              "    </tr>\n",
              "    <tr>\n",
              "      <th>Gift Baskets</th>\n",
              "      <td>1</td>\n",
              "    </tr>\n",
              "    <tr>\n",
              "      <th>Home Decor</th>\n",
              "      <td>404</td>\n",
              "    </tr>\n",
              "    <tr>\n",
              "      <th>Jewelry</th>\n",
              "      <td>991</td>\n",
              "    </tr>\n",
              "    <tr>\n",
              "      <th>Kids</th>\n",
              "      <td>140</td>\n",
              "    </tr>\n",
              "    <tr>\n",
              "      <th>Kitchen</th>\n",
              "      <td>809</td>\n",
              "    </tr>\n",
              "    <tr>\n",
              "      <th>Music</th>\n",
              "      <td>98</td>\n",
              "    </tr>\n",
              "    <tr>\n",
              "      <th>One-of-a-Kind</th>\n",
              "      <td>12</td>\n",
              "    </tr>\n",
              "    <tr>\n",
              "      <th>Recycled Art</th>\n",
              "      <td>99</td>\n",
              "    </tr>\n",
              "    <tr>\n",
              "      <th>Skin Care</th>\n",
              "      <td>101</td>\n",
              "    </tr>\n",
              "    <tr>\n",
              "      <th>Soapstone</th>\n",
              "      <td>199</td>\n",
              "    </tr>\n",
              "    <tr>\n",
              "      <th>Textiles</th>\n",
              "      <td>43</td>\n",
              "    </tr>\n",
              "    <tr>\n",
              "      <th>X Item</th>\n",
              "      <td>8</td>\n",
              "    </tr>\n",
              "  </tbody>\n",
              "</table>\n",
              "</div>"
            ],
            "text/plain": [
              "                  Net Quantity\n",
              "Product Type                  \n",
              "Accessories                 84\n",
              "Art & Sculpture           1427\n",
              "Basket                    1461\n",
              "Christmas                  575\n",
              "Easter                       1\n",
              "Fair Trade Gifts           110\n",
              "Furniture                   27\n",
              "Gift Baskets                 1\n",
              "Home Decor                 404\n",
              "Jewelry                    991\n",
              "Kids                       140\n",
              "Kitchen                    809\n",
              "Music                       98\n",
              "One-of-a-Kind               12\n",
              "Recycled Art                99\n",
              "Skin Care                  101\n",
              "Soapstone                  199\n",
              "Textiles                    43\n",
              "X Item                       8"
            ]
          },
          "metadata": {},
          "execution_count": 147
        }
      ]
    },
    {
      "cell_type": "code",
      "metadata": {
        "colab": {
          "base_uri": "https://localhost:8080/",
          "height": 677
        },
        "id": "bdd3AlL2E9D7",
        "outputId": "7de4b3c0-7a19-4114-ec65-fda8d5e76981"
      },
      "source": [
        "new_df = df.groupby('Product Type').agg({'Total Net Sales':'sum'})\n",
        "new_df"
      ],
      "execution_count": null,
      "outputs": [
        {
          "output_type": "execute_result",
          "data": {
            "text/html": [
              "<div>\n",
              "<style scoped>\n",
              "    .dataframe tbody tr th:only-of-type {\n",
              "        vertical-align: middle;\n",
              "    }\n",
              "\n",
              "    .dataframe tbody tr th {\n",
              "        vertical-align: top;\n",
              "    }\n",
              "\n",
              "    .dataframe thead th {\n",
              "        text-align: right;\n",
              "    }\n",
              "</style>\n",
              "<table border=\"1\" class=\"dataframe\">\n",
              "  <thead>\n",
              "    <tr style=\"text-align: right;\">\n",
              "      <th></th>\n",
              "      <th>Total Net Sales</th>\n",
              "    </tr>\n",
              "    <tr>\n",
              "      <th>Product Type</th>\n",
              "      <th></th>\n",
              "    </tr>\n",
              "  </thead>\n",
              "  <tbody>\n",
              "    <tr>\n",
              "      <th>Accessories</th>\n",
              "      <td>3785.38</td>\n",
              "    </tr>\n",
              "    <tr>\n",
              "      <th>Art &amp; Sculpture</th>\n",
              "      <td>84480.85</td>\n",
              "    </tr>\n",
              "    <tr>\n",
              "      <th>Basket</th>\n",
              "      <td>134791.39</td>\n",
              "    </tr>\n",
              "    <tr>\n",
              "      <th>Christmas</th>\n",
              "      <td>14460.81</td>\n",
              "    </tr>\n",
              "    <tr>\n",
              "      <th>Easter</th>\n",
              "      <td>34.20</td>\n",
              "    </tr>\n",
              "    <tr>\n",
              "      <th>Fair Trade Gifts</th>\n",
              "      <td>2204.67</td>\n",
              "    </tr>\n",
              "    <tr>\n",
              "      <th>Furniture</th>\n",
              "      <td>1864.96</td>\n",
              "    </tr>\n",
              "    <tr>\n",
              "      <th>Gift Baskets</th>\n",
              "      <td>19.50</td>\n",
              "    </tr>\n",
              "    <tr>\n",
              "      <th>Home Decor</th>\n",
              "      <td>25699.99</td>\n",
              "    </tr>\n",
              "    <tr>\n",
              "      <th>Jewelry</th>\n",
              "      <td>29572.95</td>\n",
              "    </tr>\n",
              "    <tr>\n",
              "      <th>Kids</th>\n",
              "      <td>3721.34</td>\n",
              "    </tr>\n",
              "    <tr>\n",
              "      <th>Kitchen</th>\n",
              "      <td>15336.82</td>\n",
              "    </tr>\n",
              "    <tr>\n",
              "      <th>Music</th>\n",
              "      <td>2418.90</td>\n",
              "    </tr>\n",
              "    <tr>\n",
              "      <th>One-of-a-Kind</th>\n",
              "      <td>2108.01</td>\n",
              "    </tr>\n",
              "    <tr>\n",
              "      <th>Recycled Art</th>\n",
              "      <td>3704.16</td>\n",
              "    </tr>\n",
              "    <tr>\n",
              "      <th>Skin Care</th>\n",
              "      <td>2571.80</td>\n",
              "    </tr>\n",
              "    <tr>\n",
              "      <th>Soapstone</th>\n",
              "      <td>4629.09</td>\n",
              "    </tr>\n",
              "    <tr>\n",
              "      <th>Textiles</th>\n",
              "      <td>1679.10</td>\n",
              "    </tr>\n",
              "    <tr>\n",
              "      <th>X Item</th>\n",
              "      <td>560.50</td>\n",
              "    </tr>\n",
              "  </tbody>\n",
              "</table>\n",
              "</div>"
            ],
            "text/plain": [
              "                  Total Net Sales\n",
              "Product Type                     \n",
              "Accessories               3785.38\n",
              "Art & Sculpture          84480.85\n",
              "Basket                  134791.39\n",
              "Christmas                14460.81\n",
              "Easter                      34.20\n",
              "Fair Trade Gifts          2204.67\n",
              "Furniture                 1864.96\n",
              "Gift Baskets                19.50\n",
              "Home Decor               25699.99\n",
              "Jewelry                  29572.95\n",
              "Kids                      3721.34\n",
              "Kitchen                  15336.82\n",
              "Music                     2418.90\n",
              "One-of-a-Kind             2108.01\n",
              "Recycled Art              3704.16\n",
              "Skin Care                 2571.80\n",
              "Soapstone                 4629.09\n",
              "Textiles                  1679.10\n",
              "X Item                     560.50"
            ]
          },
          "metadata": {},
          "execution_count": 143
        }
      ]
    },
    {
      "cell_type": "markdown",
      "metadata": {
        "id": "Cyih8TFFcXWN"
      },
      "source": [
        "**Part four** Vizulize data to answer all question"
      ]
    },
    {
      "cell_type": "code",
      "metadata": {
        "colab": {
          "base_uri": "https://localhost:8080/",
          "height": 381
        },
        "id": "_3gw7uRxT1Fz",
        "outputId": "ba797b88-27c5-442a-802c-470959d767e7"
      },
      "source": [
        "new_df.x.plot.bar(figsize=(15,4))\n",
        "plt.title('Histogram: Number of Item Sold', size=16)"
      ],
      "execution_count": null,
      "outputs": [
        {
          "output_type": "execute_result",
          "data": {
            "text/plain": [
              "Text(0.5, 1.0, 'Histogram: Number of Item Sold')"
            ]
          },
          "metadata": {},
          "execution_count": 150
        },
        {
          "output_type": "display_data",
          "data": {
            "image/png": "[encoded data removed]",
            "text/plain": [
              "<Figure size 1080x288 with 1 Axes>"
            ]
          },
          "metadata": {
            "needs_background": "light"
          }
        }
      ]
    },
    {
      "cell_type": "code",
      "metadata": {
        "colab": {
          "base_uri": "https://localhost:8080/",
          "height": 381
        },
        "id": "kmtp277AVWQo",
        "outputId": "f64ff489-074c-4433-dbe9-c0646520880f"
      },
      "source": [
        "new_df.plot.bar(figsize=(15,4))\n",
        "plt.title('Histogram: Total Revenuew each Item', size=16)"
      ],
      "execution_count": null,
      "outputs": [
        {
          "output_type": "execute_result",
          "data": {
            "text/plain": [
              "Text(0.5, 1.0, 'Histogram: Total Revenuew each Item')"
            ]
          },
          "metadata": {},
          "execution_count": 152
        },
        {
          "output_type": "display_data",
          "data": {
            "image/png": "[encoded data removed]",
            "text/plain": [
              "<Figure size 1080x288 with 1 Axes>"
            ]
          },
          "metadata": {
            "needs_background": "light"
          }
        }
      ]
    },
    {
      "cell_type": "code",
      "metadata": {
        "colab": {
          "base_uri": "https://localhost:8080/",
          "height": 297
        },
        "id": "V-W-6OKXVyDP",
        "outputId": "4ed20195-6c8e-4b10-872b-9c14d4ef685d"
      },
      "source": [
        "import matplotlib.pyplot as plt\n",
        "import seaborn as sns\n",
        "\n",
        "sns.scatterplot(x = df['Net Quantity'], y = df['Discounts'])\n",
        "plt.title('Scatterplot: Relationsip between Net Quantity & Discounts', size=16)\n",
        "plt.show()"
      ],
      "execution_count": null,
      "outputs": [
        {
          "output_type": "display_data",
          "data": {
            "image/png": "[encoded data removed]",
            "text/plain": [
              "<Figure size 432x288 with 1 Axes>"
            ]
          },
          "metadata": {
            "needs_background": "light"
          }
        }
      ]
    },
    {
      "cell_type": "markdown",
      "metadata": {
        "id": "qOTdM6GrclBp"
      },
      "source": [
        "**Part four** Giving insigth\n",
        "\n",
        "From all data and visualiyze that we see, we an take conclution that:\n",
        "1. The Chart illustrate that'Basket' item have the most demand and have the most sold item followed by 'Art & Sculpture'\n",
        "2. The other chart tells us that'Basket' is the most item that give revenue to the sales. but we also can see that sold item have diferent relation to revenue for each item\n",
        "3. From the plot we know that there is no relation between 'Net Quantity' and 'Discounts'"
      ]
    }
  ]
}